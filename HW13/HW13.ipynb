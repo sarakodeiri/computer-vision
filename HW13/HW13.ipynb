{
  "nbformat": 4,
  "nbformat_minor": 0,
  "metadata": {
    "kernelspec": {
      "display_name": "Python 3",
      "language": "python",
      "name": "python3"
    },
    "language_info": {
      "codemirror_mode": {
        "name": "ipython",
        "version": 3
      },
      "file_extension": ".py",
      "mimetype": "text/x-python",
      "name": "python",
      "nbconvert_exporter": "python",
      "pygments_lexer": "ipython3",
      "version": "3.8.5"
    },
    "colab": {
      "name": "HW13.ipynb",
      "provenance": [],
      "collapsed_sections": [],
      "toc_visible": true
    },
    "accelerator": "GPU"
  },
  "cells": [
    {
      "cell_type": "markdown",
      "metadata": {
        "id": "SeJBOrjFuyKg"
      },
      "source": [
        "# HomeWork 13\n",
        "\n",
        "**DeadLine : 23:59 4 Day 1399**\n",
        "\n",
        "**Total points : 100pts**"
      ]
    },
    {
      "cell_type": "markdown",
      "metadata": {
        "id": "TDKqgvHkuyKn"
      },
      "source": [
        "Import some prerequisites:"
      ]
    },
    {
      "cell_type": "code",
      "metadata": {
        "id": "9yESdCLduyKn",
        "colab": {
          "base_uri": "https://localhost:8080/"
        },
        "outputId": "1249ba16-b636-43f0-faec-60684bf174a6"
      },
      "source": [
        "import cv2\n",
        "import numpy as np\n",
        "import matplotlib.pyplot as plt\n",
        "import pandas as pd\n",
        "import seaborn as sn\n",
        "from tensorflow import keras\n",
        "from google.colab import drive\n",
        "drive.mount('/content/drive')"
      ],
      "execution_count": 61,
      "outputs": [
        {
          "output_type": "stream",
          "text": [
            "Drive already mounted at /content/drive; to attempt to forcibly remount, call drive.mount(\"/content/drive\", force_remount=True).\n"
          ],
          "name": "stdout"
        }
      ]
    },
    {
      "cell_type": "code",
      "metadata": {
        "id": "RBEpt0-80kWZ"
      },
      "source": [
        "# example of creating a CNN with an efficient inception module\r\n",
        "from keras.models import Model\r\n",
        "from keras.layers import Input\r\n",
        "from keras.layers import Conv2D\r\n",
        "from keras.layers import MaxPooling2D\r\n",
        "from keras.layers import Flatten\r\n",
        "from keras.layers import Dense\r\n",
        "from keras.layers.merge import concatenate\r\n",
        "from keras.utils import plot_model"
      ],
      "execution_count": 62,
      "outputs": []
    },
    {
      "cell_type": "markdown",
      "metadata": {
        "id": "er1crBEzuyKo"
      },
      "source": [
        "Run this cell for plotting."
      ]
    },
    {
      "cell_type": "code",
      "metadata": {
        "id": "WLOFrwMkuyKo"
      },
      "source": [
        "def plotter(img_list, r, w, gray, wr, hr, fig_name = None):\n",
        "    '''\n",
        "    Plots images' list with its' caption and saves result image if you want.\n",
        "\n",
        "    Parameters:\n",
        "        img_list (list): The list of tuples of image and its' caption.\n",
        "        r (int): The number of row(s).\n",
        "        w (int): The number of colunm(s).\n",
        "        gray (bool): The flag for plotting images in grayscale mode.\n",
        "        wr (int): The width of one figure.\n",
        "        hr (int): The height of one figure.\n",
        "        fig_name (str): The name of the image of the plot. if not set this parameter the plot doesn't save.\n",
        "    '''\n",
        "    \n",
        "    plt.rcParams['figure.figsize'] = (wr, hr)\n",
        "    for i in range(len(img_list)):\n",
        "        plt.subplot(r, w, i + 1)\n",
        "        if img_list[i][2] == 'img':\n",
        "            if gray:\n",
        "                plt.imshow(img_list[i][0], cmap = 'gray')\n",
        "            else:\n",
        "                plt.imshow(img_list[i][0])\n",
        "            plt.xticks([])\n",
        "            plt.yticks([])\n",
        "        elif img_list[i][2] == 'hist':\n",
        "            plt.bar(np.arange(len(img_list[i][0])), img_list[i][0], color = 'c')\n",
        "        else:\n",
        "            raise Exception(\"Only image or histogram. Use third parameter of tuples in img_list and set it to img or hist.\")\n",
        "        plt.title(img_list[i][1])\n",
        "    if fig_name is not None:\n",
        "        plt.savefig(fig_name + '.png')\n",
        "    plt.show()"
      ],
      "execution_count": 63,
      "outputs": []
    },
    {
      "cell_type": "markdown",
      "metadata": {
        "id": "Spgly2FtuyKo"
      },
      "source": [
        "Run this cell for plotting evaluation."
      ]
    },
    {
      "cell_type": "code",
      "metadata": {
        "id": "BG89VjFxuyKp"
      },
      "source": [
        "from sklearn.metrics import accuracy_score, f1_score, confusion_matrix\n",
        "\n",
        "\n",
        "def evaluation(y_test, y_pred, fig_name, title):\n",
        "    '''\n",
        "    Prints accuracy and F1-score and plots confusion matrix and saves result image.\n",
        "\n",
        "    Parameters:\n",
        "        y_test (numpy.ndarray) : test labels (ground truth)\n",
        "        y_pred (numpy.ndarray) : predicted labels \n",
        "        fig_name (str): The name of the image of the plot.\n",
        "        title (str): The caption of the plot.\n",
        "    '''\n",
        "\n",
        "    acc = accuracy_score(y_test, y_pred)\n",
        "    print('Accuracy for', title, '=', acc)\n",
        "    f1 = f1_score(y_test, y_pred, average = 'macro')\n",
        "    print('F1 score for', title, '=', f1)\n",
        "    cm = confusion_matrix(y_test, y_pred)\n",
        "    df_cm = pd.DataFrame(cm, range(10), range(10))\n",
        "    plt.figure(figsize = (10, 7))\n",
        "    sn.set(font_scale = 1.4) # for label size\n",
        "    sn.heatmap(df_cm , annot = True, annot_kws = {\"size\" : 16}, fmt = 'g') # font size\n",
        "    plt.title(title)\n",
        "    plt.savefig(fig_name + '.png')\n",
        "    plt.show()"
      ],
      "execution_count": 64,
      "outputs": []
    },
    {
      "cell_type": "markdown",
      "metadata": {
        "id": "1lrL606uuyKp"
      },
      "source": [
        "Here is for your helper functions(optional)"
      ]
    },
    {
      "cell_type": "code",
      "metadata": {
        "id": "5Mpw2AgmuyKp"
      },
      "source": [
        "# function for creating a projected inception module\r\n",
        "def inception_module(layer_in, f1, f2_in, f2_out, f3_in, f3_out, f4_out):\r\n",
        "\t# 1x1 conv\r\n",
        "\tconv1 = Conv2D(f1, (1,1), padding='same', activation='relu')(layer_in)\r\n",
        "\t# 3x3 conv\r\n",
        "\tconv3 = Conv2D(f2_in, (1,1), padding='same', activation='relu')(layer_in)\r\n",
        "\tconv3 = Conv2D(f2_out, (3,3), padding='same', activation='relu')(conv3)\r\n",
        "\t# 5x5 conv\r\n",
        "\tconv5 = Conv2D(f3_in, (1,1), padding='same', activation='relu')(layer_in)\r\n",
        "\tconv5 = Conv2D(f3_out, (3,3), padding='same', activation='relu')(conv5)\r\n",
        "\tconv5 = Conv2D(f3_out, (3,3), padding='same', activation='relu')(conv5)\r\n",
        " \r\n",
        "  # conv5 = Conv2D(f3_out, (3,3), padding='same', activation='relu')(conv5)\r\n",
        "  \t# 3x3 max pooling\r\n",
        "\tpool = MaxPooling2D((3,3), strides=(1,1), padding='same')(layer_in)\r\n",
        "\tpool = Conv2D(f4_out, (1,1), padding='same', activation='relu')(pool)\r\n",
        "\t# concatenate filters, assumes filters/channels last\r\n",
        "\tlayer_out = concatenate([conv1, conv3, conv5, pool], axis=-1)\r\n",
        "\treturn layer_out"
      ],
      "execution_count": 65,
      "outputs": []
    },
    {
      "cell_type": "markdown",
      "metadata": {
        "id": "rh38heOPuyKp"
      },
      "source": [
        "Getting the data:"
      ]
    },
    {
      "cell_type": "code",
      "metadata": {
        "id": "S_c5zd6YuyKq"
      },
      "source": [
        "from keras.datasets import fashion_mnist\n",
        "\n",
        "# The data, split between train and test sets:\n",
        "(x_train, y_train), (x_test, y_test) = fashion_mnist.load_data()\n",
        "\n",
        "# plt.figure(figsize=(25,4))\n",
        "# for i in range(16):\n",
        "#   plt.subplot(1,16,i+1)\n",
        "#   plt.imshow(x_train[i], cmap='gray')\n",
        "#   plt.xticks([])\n",
        "#   plt.yticks([])\n",
        "#   plt.title(y_train[i])\n",
        "\n",
        "num_classes = 10\n",
        "x_train = x_train.reshape((x_train.shape[0], 28, 28, 1))\n",
        "x_test = x_test.reshape((x_test.shape[0], 28, 28, 1))\n",
        "y_train = keras.utils.to_categorical(y_train, num_classes)\n",
        "y_test = keras.utils.to_categorical(y_test, num_classes)"
      ],
      "execution_count": 66,
      "outputs": []
    },
    {
      "cell_type": "markdown",
      "metadata": {
        "id": "VoNNJyPguyKq"
      },
      "source": [
        "Create your model."
      ]
    },
    {
      "cell_type": "code",
      "metadata": {
        "colab": {
          "base_uri": "https://localhost:8080/"
        },
        "id": "o5fjGYG0uyKq",
        "outputId": "6318d58f-9236-47d8-eb8a-6e0b7d76a2c0"
      },
      "source": [
        "# define model with pooling\r\n",
        "# model = keras.Sequential()\r\n",
        "# model.add(keras.layers.Input(shape=x_train[0].shape))\r\n",
        "# model.add(keras.layers.Conv2D(filters=128, kernel_size=(3, 3), activation='relu'))\r\n",
        "# model.add(keras.layers.Conv2D(filters=128, kernel_size=(3, 3), activation='relu'))\r\n",
        "# model.add(keras.layers.MaxPool2D())\r\n",
        "# model.add(keras.layers.Flatten())\r\n",
        "# model.add(keras.layers.Dense(units=num_classes, activation='softmax'))\r\n",
        "# model.summary()\r\n",
        "\r\n",
        "# define model input\r\n",
        "visible = Input(shape=x_train[0].shape)\r\n",
        "\r\n",
        "layer = Conv2D(32, (7,7), padding='same', activation='relu')(visible)\r\n",
        "# add inception block 1\r\n",
        "layer = inception_module(layer, 64, 96, 128, 16, 32, 32)\r\n",
        "# add inception block 1\r\n",
        "layer = inception_module(layer, 128, 128, 192, 32, 96, 64)\r\n",
        "\r\n",
        "layer = Flatten()(layer)\r\n",
        "# layer = Dense(units=1000, activation='softmax')(layer)\r\n",
        "layer = Dense(units=num_classes, activation='softmax')(layer)\r\n",
        "\r\n",
        "\r\n",
        "# create model\r\n",
        "model = Model(inputs=visible, outputs=layer)\r\n",
        "# summarize model\r\n",
        "model.summary()\r\n"
      ],
      "execution_count": 67,
      "outputs": [
        {
          "output_type": "stream",
          "text": [
            "Model: \"model_8\"\n",
            "__________________________________________________________________________________________________\n",
            "Layer (type)                    Output Shape         Param #     Connected to                     \n",
            "==================================================================================================\n",
            "input_15 (InputLayer)           [(None, 28, 28, 1)]  0                                            \n",
            "__________________________________________________________________________________________________\n",
            "conv2d_141 (Conv2D)             (None, 28, 28, 32)   1600        input_15[0][0]                   \n",
            "__________________________________________________________________________________________________\n",
            "conv2d_145 (Conv2D)             (None, 28, 28, 16)   528         conv2d_141[0][0]                 \n",
            "__________________________________________________________________________________________________\n",
            "conv2d_143 (Conv2D)             (None, 28, 28, 96)   3168        conv2d_141[0][0]                 \n",
            "__________________________________________________________________________________________________\n",
            "conv2d_146 (Conv2D)             (None, 28, 28, 32)   4640        conv2d_145[0][0]                 \n",
            "__________________________________________________________________________________________________\n",
            "max_pooling2d_24 (MaxPooling2D) (None, 28, 28, 32)   0           conv2d_141[0][0]                 \n",
            "__________________________________________________________________________________________________\n",
            "conv2d_142 (Conv2D)             (None, 28, 28, 64)   2112        conv2d_141[0][0]                 \n",
            "__________________________________________________________________________________________________\n",
            "conv2d_144 (Conv2D)             (None, 28, 28, 128)  110720      conv2d_143[0][0]                 \n",
            "__________________________________________________________________________________________________\n",
            "conv2d_147 (Conv2D)             (None, 28, 28, 32)   9248        conv2d_146[0][0]                 \n",
            "__________________________________________________________________________________________________\n",
            "conv2d_148 (Conv2D)             (None, 28, 28, 32)   1056        max_pooling2d_24[0][0]           \n",
            "__________________________________________________________________________________________________\n",
            "concatenate_22 (Concatenate)    (None, 28, 28, 256)  0           conv2d_142[0][0]                 \n",
            "                                                                 conv2d_144[0][0]                 \n",
            "                                                                 conv2d_147[0][0]                 \n",
            "                                                                 conv2d_148[0][0]                 \n",
            "__________________________________________________________________________________________________\n",
            "conv2d_152 (Conv2D)             (None, 28, 28, 32)   8224        concatenate_22[0][0]             \n",
            "__________________________________________________________________________________________________\n",
            "conv2d_150 (Conv2D)             (None, 28, 28, 128)  32896       concatenate_22[0][0]             \n",
            "__________________________________________________________________________________________________\n",
            "conv2d_153 (Conv2D)             (None, 28, 28, 96)   27744       conv2d_152[0][0]                 \n",
            "__________________________________________________________________________________________________\n",
            "max_pooling2d_25 (MaxPooling2D) (None, 28, 28, 256)  0           concatenate_22[0][0]             \n",
            "__________________________________________________________________________________________________\n",
            "conv2d_149 (Conv2D)             (None, 28, 28, 128)  32896       concatenate_22[0][0]             \n",
            "__________________________________________________________________________________________________\n",
            "conv2d_151 (Conv2D)             (None, 28, 28, 192)  221376      conv2d_150[0][0]                 \n",
            "__________________________________________________________________________________________________\n",
            "conv2d_154 (Conv2D)             (None, 28, 28, 96)   83040       conv2d_153[0][0]                 \n",
            "__________________________________________________________________________________________________\n",
            "conv2d_155 (Conv2D)             (None, 28, 28, 64)   16448       max_pooling2d_25[0][0]           \n",
            "__________________________________________________________________________________________________\n",
            "concatenate_23 (Concatenate)    (None, 28, 28, 480)  0           conv2d_149[0][0]                 \n",
            "                                                                 conv2d_151[0][0]                 \n",
            "                                                                 conv2d_154[0][0]                 \n",
            "                                                                 conv2d_155[0][0]                 \n",
            "__________________________________________________________________________________________________\n",
            "flatten_10 (Flatten)            (None, 376320)       0           concatenate_23[0][0]             \n",
            "__________________________________________________________________________________________________\n",
            "dense_8 (Dense)                 (None, 10)           3763210     flatten_10[0][0]                 \n",
            "==================================================================================================\n",
            "Total params: 4,318,906\n",
            "Trainable params: 4,318,906\n",
            "Non-trainable params: 0\n",
            "__________________________________________________________________________________________________\n"
          ],
          "name": "stdout"
        }
      ]
    },
    {
      "cell_type": "markdown",
      "metadata": {
        "id": "dxLMxJtOuyKq"
      },
      "source": [
        "Train your model."
      ]
    },
    {
      "cell_type": "code",
      "metadata": {
        "colab": {
          "base_uri": "https://localhost:8080/"
        },
        "id": "XvRg70-JuyKr",
        "outputId": "b2f26b5b-2aaf-4bec-8606-ae342dc27526"
      },
      "source": [
        " # compile model\r\n",
        "model.compile(loss='categorical_crossentropy', optimizer='adam', metrics=['accuracy'])\r\n",
        "\r\n",
        "# train model\r\n",
        "history = model.fit(x_train, y_train,\r\n",
        "                    batch_size=100,\r\n",
        "                    epochs=10,\r\n",
        "                    validation_data=(x_test, y_test),\r\n",
        "                    shuffle=True)\r\n",
        "\r\n",
        "# original_df = pd.DataFrame(history)\r\n",
        "# original_df.to_pickle(\"content/trained.pkl\")\r\n",
        "model.save('content/drive/MyDrive/final_model.h5')"
      ],
      "execution_count": null,
      "outputs": [
        {
          "output_type": "stream",
          "text": [
            "Epoch 1/10\n",
            "600/600 [==============================] - 52s 85ms/step - loss: 18.2639 - accuracy: 0.7841 - val_loss: 0.3169 - val_accuracy: 0.8898\n",
            "Epoch 2/10\n",
            "123/600 [=====>........................] - ETA: 37s - loss: 0.2080 - accuracy: 0.9222"
          ],
          "name": "stdout"
        }
      ]
    },
    {
      "cell_type": "markdown",
      "metadata": {
        "id": "9PAngrE2uyKr"
      },
      "source": [
        "Evaluate your model"
      ]
    },
    {
      "cell_type": "code",
      "metadata": {
        "id": "QarxkS9UuyKr"
      },
      "source": [
        "# Suggestion: Using the evaluation function.\n",
        "# Get y_pred for y_test from model.predict() then use evaluation(y_test, y_pred, fig_name, title)\n",
        "# with proper name for fig_name and title.\n",
        "temp = model.predict(x_test)\n",
        "y_test = np.argmax(y_test, axis=1)\n",
        "y_pred = np.argmax(temp, axis=1)\n",
        "evaluation(y_test, y_pred, \"result\", \"result\")\n"
      ],
      "execution_count": null,
      "outputs": []
    },
    {
      "cell_type": "markdown",
      "metadata": {
        "id": "bbJ3OZx7uyKr"
      },
      "source": [
        "Show 10 bad loss images."
      ]
    },
    {
      "cell_type": "code",
      "metadata": {
        "id": "72Pbo1FduyKr"
      },
      "source": [
        "# Suggestion: Using the plotter function.\n",
        "real_probs = []\n",
        "for i in range(len(temp)):\n",
        "  real_probs.append(temp[i][y_pred[i]])\n",
        "min_probs = sorted(real_probs)[:10]\n",
        "imgs = []\n",
        "for i in range(len(min_probs)):\n",
        "  imgs.append([cv2.cvtColor(x_test[real_probs.index(min_probs[i])], cv2.COLOR_BGR2RGB), '', 'img'])\n",
        "\n",
        "plotter(imgs, 1, 10, False, 28, 28, fig_name = \"10 worst\")"
      ],
      "execution_count": null,
      "outputs": []
    },
    {
      "cell_type": "markdown",
      "metadata": {
        "id": "USZ134DHuyKs"
      },
      "source": [
        "End!!!"
      ]
    }
  ]
}
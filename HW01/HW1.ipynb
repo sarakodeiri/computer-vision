{
 "cells": [
  {
   "cell_type": "markdown",
   "metadata": {},
   "source": [
    "# HomeWork 1\n",
    "\n",
    "**DeadLine : 12:00 PM 7 Mehr 1399**\n",
    "\n",
    "**Total points : 100pts**\n"
   ]
  },
  {
   "cell_type": "markdown",
   "metadata": {},
   "source": [
    "Import some prerequisites"
   ]
  },
  {
   "cell_type": "code",
   "execution_count": 49,
   "metadata": {},
   "outputs": [],
   "source": [
    "import cv2\n",
    "import matplotlib.pyplot as plt\n",
    "import numpy as np\n",
    "import os"
   ]
  },
  {
   "cell_type": "markdown",
   "metadata": {},
   "source": [
    "Run this cell for plotting"
   ]
  },
  {
   "cell_type": "code",
   "execution_count": 50,
   "metadata": {},
   "outputs": [],
   "source": [
    "def plotter(img_list, r, w, gray, wr, hr, fig_name = None):\n",
    "    '''\n",
    "    Plots images' list with its' caption and saves result image if you want.\n",
    "\n",
    "    Parameters:\n",
    "        img_list (list): The list of tuples of image and its' caption.\n",
    "        r (int): The number of row(s).\n",
    "        w (int): The number of colunm(s).\n",
    "        gray (bool): The flag for plotting images in grayscale mode.\n",
    "        wr (int): The width of one figure.\n",
    "        hr (int): The height of one figure.\n",
    "        fig_name (str): The name of the image of the plot. if not set this parameter the plot doesn't save.\n",
    "    '''\n",
    "    \n",
    "    plt.rcParams['figure.figsize'] = (wr, hr)\n",
    "    for i in range(len(img_list)):\n",
    "        plt.subplot(r, w, i + 1)\n",
    "        if gray:\n",
    "            plt.imshow(img_list[i][0], cmap = 'gray')\n",
    "        else:\n",
    "            plt.imshow(img_list[i][0])\n",
    "        plt.title(img_list[i][1])\n",
    "        plt.xticks([])\n",
    "        plt.yticks([])\n",
    "    if fig_name is not None:\n",
    "        plt.savefig(fig_name + '.png')\n",
    "    plt.show()"
   ]
  },
  {
   "cell_type": "markdown",
   "metadata": {},
   "source": [
    "# PART 6A"
   ]
  },
  {
   "cell_type": "markdown",
   "metadata": {},
   "source": [
    "Here is for your helper functions(optional)"
   ]
  },
  {
   "cell_type": "code",
   "execution_count": null,
   "metadata": {},
   "outputs": [],
   "source": []
  },
  {
   "cell_type": "markdown",
   "metadata": {},
   "source": [
    "Implement this function so that creates an image like circles_t1.jpg and circles_t2.jpg in the images folder.\n",
    "\n",
    "\n",
    "**Hint**\n",
    "*:you only can use cv2.circle function from OpenCV*"
   ]
  },
  {
   "cell_type": "code",
   "execution_count": 86,
   "metadata": {},
   "outputs": [],
   "source": [
    "def draw_circles(width, height, radius, color, thickness):\n",
    "    '''\n",
    "    Draws nested circles.\n",
    "\n",
    "    Parameters:\n",
    "        width (int): The width of result image.\n",
    "        height (int): The height of result image.\n",
    "        radius (int): The radius of circles.\n",
    "        color (tuple): The color of circles in (b, g, r) mode.\n",
    "        thickness (int): The thickness of circles.\n",
    "\n",
    "    Returns:\n",
    "        numpy.ndarray: The result image.\n",
    "    '''\n",
    "    \n",
    "    image = np.zeros((height, width, 3), np.uint8) + 255 # creates blank image.\n",
    "    # Write your code here\n",
    "    \n",
    "    co_1 = (int(width/2) + radius, int(height/2))\n",
    "    co_2 = (int(width/2) , int(height/2) + radius)\n",
    "    co_3 = (int(width/2) - radius , int(height/2))\n",
    "    co_4 = (int(width/2) , int(height/2) - radius)\n",
    "    \n",
    "    co_5 = (int(width/2 + radius / 2) , int(height/2 + radius * np.sqrt(3) / 2))\n",
    "    co_6 = (int(width/2 - radius / 2) , int(height/2 - radius * np.sqrt(3) / 2))\n",
    "    co_7 = (int(width/2 - radius / 2) , int(height/2 + radius * np.sqrt(3) / 2))\n",
    "    co_8 = (int(width/2 + radius / 2) , int(height/2 - radius * np.sqrt(3) / 2)) #OK\n",
    "    \n",
    "    co_9  = (int(width/2 + radius * np.sqrt(3) / 2) , int(height/2 + radius / 2))\n",
    "    co_10 = (int(width/2 - radius * np.sqrt(3) / 2) , int(height/2 - radius / 2))\n",
    "    co_11 = (int(width/2 - radius * np.sqrt(3) / 2) , int(height/2 + radius / 2))\n",
    "    co_12 = (int(width/2 + radius * np.sqrt(3) / 2) , int(height/2 - radius / 2))\n",
    "    \n",
    "    image = cv2.circle(image, co_1, radius, color, thickness)\n",
    "    image = cv2.circle(image, co_2, radius, color, thickness)\n",
    "    image = cv2.circle(image, co_3, radius, color, thickness)\n",
    "    image = cv2.circle(image, co_4, radius, color, thickness)\n",
    "    image = cv2.circle(image, co_5, radius, color, thickness)\n",
    "    image = cv2.circle(image, co_6, radius, color, thickness)\n",
    "    image = cv2.circle(image, co_7, radius, color, thickness)\n",
    "    image = cv2.circle(image, co_8, radius, color, thickness)\n",
    "    image = cv2.circle(image, co_9, radius, color, thickness)\n",
    "    image = cv2.circle(image, co_10, radius, color, thickness)\n",
    "    image = cv2.circle(image, co_11, radius, color, thickness)\n",
    "    image = cv2.circle(image, co_12, radius, color, thickness)\n",
    "    \n",
    "    \n",
    "    return image"
   ]
  },
  {
   "cell_type": "markdown",
   "metadata": {},
   "source": [
    "Test your implementation (dont change this cell)"
   ]
  },
  {
   "cell_type": "code",
   "execution_count": 87,
   "metadata": {},
   "outputs": [
    {
     "data": {
      "image/png": "[encoded data removed]",
      "text/plain": [
       "<Figure size 1440x720 with 2 Axes>"
      ]
     },
     "metadata": {},
     "output_type": "display_data"
    }
   ],
   "source": [
    "width = 200\n",
    "height = 100\n",
    "radius = 20\n",
    "color = (0, 0, 255) # blue color in (r, g, b) mode\n",
    "\n",
    "image_list = []\n",
    "thickness = 1\n",
    "image_list.append([draw_circles(width, height, radius, color, thickness), 'circles_t1'])\n",
    "thickness = 2\n",
    "image_list.append([draw_circles(width, height, radius, color, thickness), 'circles_t2'])\n",
    "plotter(image_list, 1, 2, False, 20, 10, 'q6a')"
   ]
  },
  {
   "cell_type": "markdown",
   "metadata": {},
   "source": [
    "# PART 6B"
   ]
  },
  {
   "cell_type": "markdown",
   "metadata": {},
   "source": [
    "Here is for your helper functions(optional)"
   ]
  },
  {
   "cell_type": "code",
   "execution_count": null,
   "metadata": {},
   "outputs": [],
   "source": []
  },
  {
   "cell_type": "markdown",
   "metadata": {},
   "source": [
    "Implement this function so that creates an image like lines.jpg in the images folder.\n",
    "\n",
    "\n",
    "**Hint**\n",
    "*:you only can use cv2.line function from OpenCV*"
   ]
  },
  {
   "cell_type": "code",
   "execution_count": 108,
   "metadata": {},
   "outputs": [],
   "source": [
    "def draw_lines(width, height, color, thickness):\n",
    "    '''\n",
    "    Draws nested lines.\n",
    "\n",
    "    Parameters:\n",
    "        width (int): The width of result image.\n",
    "        height (int): The height of result image.\n",
    "        color (tuple): The color of lines in (b, g, r) mode.\n",
    "        thickness (int): The thickness of lines.\n",
    "\n",
    "    Returns:\n",
    "        numpy.ndarray: The result image.\n",
    "    '''\n",
    "    \n",
    "    image = np.zeros((height, width, 3), np.uint8) + 255 # creates blank image.\n",
    "    # Write your code here\n",
    "    \n",
    "    temp_start = (0, 0)\n",
    "    temp_end = (0, 0)\n",
    "    for i in range (1, 25):\n",
    "        temp_start = (20, i * 20)\n",
    "        temp_end = (500 - i * 20, 20)\n",
    "        image = cv2.line(image, temp_start, temp_end, color, thickness)\n",
    "\n",
    "    \n",
    "    \n",
    "    return image"
   ]
  },
  {
   "cell_type": "markdown",
   "metadata": {},
   "source": [
    "Test your implementation (dont change this cell)"
   ]
  },
  {
   "cell_type": "code",
   "execution_count": 109,
   "metadata": {},
   "outputs": [
    {
     "data": {
      "image/png": "[encoded data removed]",
      "text/plain": [
       "<Figure size 1440x720 with 1 Axes>"
      ]
     },
     "metadata": {},
     "output_type": "display_data"
    }
   ],
   "source": [
    "width = 500\n",
    "height = 500\n",
    "thickness = 1\n",
    "color = (0, 0, 255) # blue color in (r, g, b) mode\n",
    "\n",
    "image_list = []\n",
    "image_list.append([draw_lines(width, height, color, thickness), 'lines'])\n",
    "plotter(image_list, 1, 1, False, 20, 10, 'q6b')"
   ]
  },
  {
   "cell_type": "markdown",
   "metadata": {},
   "source": [
    "for create proper files for sending in quera run this cell."
   ]
  },
  {
   "cell_type": "code",
   "execution_count": 3,
   "metadata": {},
   "outputs": [],
   "source": [
    "!python notebook_converter.py"
   ]
  },
  {
   "cell_type": "markdown",
   "metadata": {},
   "source": [
    "End!!!"
   ]
  }
 ],
 "metadata": {
  "kernelspec": {
   "display_name": "Python 3",
   "language": "python",
   "name": "python3"
  },
  "language_info": {
   "codemirror_mode": {
    "name": "ipython",
    "version": 3
   },
   "file_extension": ".py",
   "mimetype": "text/x-python",
   "name": "python",
   "nbconvert_exporter": "python",
   "pygments_lexer": "ipython3",
   "version": "3.7.4"
  }
 },
 "nbformat": 4,
 "nbformat_minor": 2
}
